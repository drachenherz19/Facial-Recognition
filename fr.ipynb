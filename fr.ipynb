{
  "nbformat": 4,
  "nbformat_minor": 0,
  "metadata": {
    "colab": {
      "name": "Main Final Project",
      "provenance": []
    },
    "kernelspec": {
      "name": "python3",
      "display_name": "Python 3"
    },
    "language_info": {
      "name": "python"
    }
  },
  "cells": [
    {
      "cell_type": "code",
      "metadata": {
        "id": "cfbWoEa-dSfP"
      },
      "source": [
        "import keras\n",
        "from keras.models import Sequential\n",
        "from keras.layers import Conv2D, MaxPooling2D, Dense, Flatten, Dropout\n",
        "from tensorflow.keras.optimizers import Adam\n",
        "from keras.callbacks import TensorBoard\n",
        "from tensorflow.keras.utils import to_categorical\n",
        "import tensorflow as tf\n",
        "\n",
        "import numpy as np\n",
        "import pandas as pd\n",
        "import matplotlib.pyplot as plt\n",
        "\n",
        "from sklearn.model_selection import train_test_split\n",
        "\n",
        "from sklearn.metrics import confusion_matrix\n",
        "from sklearn.metrics import classification_report\n",
        "from sklearn.metrics import roc_curve, auc\n",
        "from sklearn.metrics import accuracy_score\n",
        "from keras.utils import np_utils\n",
        "import itertools\n",
        "\n",
        "from PIL import Image\n",
        "import numpy as np\n",
        "from google.colab.patches import cv2_imshow\n",
        "import os"
      ],
      "execution_count": null,
      "outputs": []
    },
    {
      "cell_type": "code",
      "metadata": {
        "colab": {
          "base_uri": "https://localhost:8080/",
          "height": 97
        },
        "id": "nsyUd5Xo5UqT",
        "outputId": "d3639b40-6065-43c3-a643-63e98348e77a"
      },
      "source": [
        "img=Image.open('1_1.jpg')\n",
        "a='1_1.jpg'\n",
        "type(img)\n",
        "import cv2\n",
        "img1 = cv2.imread(a, cv2.IMREAD_UNCHANGED)\n",
        "cv2_imshow(img1)"
      ],
      "execution_count": null,
      "outputs": [
        {
          "output_type": "display_data",
          "data": {
            "image/png": "[encoded data removed]",
            "text/plain": [
              "<PIL.Image.Image image mode=L size=70x80 at 0x7F52254C8D10>"
            ]
          },
          "metadata": {}
        }
      ]
    },
    {
      "cell_type": "code",
      "metadata": {
        "colab": {
          "base_uri": "https://localhost:8080/"
        },
        "id": "na8lbhED66DY",
        "outputId": "db0e9e13-322b-4a54-845e-61a9bb850b23"
      },
      "source": [
        "from google.colab import drive\n",
        "drive.mount('/content/gdrive')"
      ],
      "execution_count": null,
      "outputs": [
        {
          "output_type": "stream",
          "name": "stdout",
          "text": [
            "Mounted at /content/gdrive\n"
          ]
        }
      ]
    },
    {
      "cell_type": "code",
      "metadata": {
        "id": "KCkjIPPBNjNb"
      },
      "source": [
        "path='/content/gdrive/MyDrive/Faces - Copy (2)'\n",
        "data=[]\n",
        "labels=[]\n",
        "for filename in os.listdir(path):\n",
        "    # print(filename)\n",
        "    f = os.path.join(path, filename)\n",
        "    images = os.listdir(f)\n",
        "    for i in images:\n",
        "      image=Image.open(f+'/'+ i).convert('L')\n",
        "      image=image.resize((80,70))\n",
        "      image=np.array(image)\n",
        "      data.append(image)\n",
        "      labels.append(filename)\n"
      ],
      "execution_count": null,
      "outputs": []
    },
    {
      "cell_type": "code",
      "metadata": {
        "colab": {
          "base_uri": "https://localhost:8080/"
        },
        "id": "5_R5ae4OVXTb",
        "outputId": "e0b3692a-dc32-4987-b512-4c866ee22f26"
      },
      "source": [
        "#Converting lists into numpy arrays\n",
        "data = np.array(data)\n",
        "labels = np.array(labels)\n",
        "print(data[0].shape)"
      ],
      "execution_count": null,
      "outputs": [
        {
          "output_type": "stream",
          "name": "stdout",
          "text": [
            "(70, 80)\n"
          ]
        }
      ]
    },
    {
      "cell_type": "code",
      "metadata": {
        "id": "YVcHWHE5-fKJ"
      },
      "source": [
        "labels = labels.astype(np.int)"
      ],
      "execution_count": null,
      "outputs": []
    },
    {
      "cell_type": "code",
      "metadata": {
        "id": "JhcP2RYSc3Gs"
      },
      "source": [
        "data = np.array(data,dtype='float32')/255"
      ],
      "execution_count": null,
      "outputs": []
    },
    {
      "cell_type": "code",
      "metadata": {
        "id": "i1H43vPrc_l9",
        "colab": {
          "base_uri": "https://localhost:8080/"
        },
        "outputId": "3547affc-4fb8-4c00-f3f2-402c74728c94"
      },
      "source": [
        "print(labels)"
      ],
      "execution_count": null,
      "outputs": [
        {
          "output_type": "stream",
          "name": "stdout",
          "text": [
            "[ 4  4  4  4  4  4  4  4  4  4 40 40 40 40 40 40 40 40 40 40 38 38 38 38\n",
            " 38 38 38 38 38 38 39 39 39 39 39 39 39 39 39 39  7  7  7  7  7  7  7  7\n",
            "  7  7  6  6  6  6  6  6  6  6  6  6  9  9  9  9  9  9  9  9  9  9  5  5\n",
            "  5  5  5  5  5  5  5  5 37 37 37 37 37 37 37 37 37 37  8  8  8  8  8  8\n",
            "  8  8  8  8 32 32 32 32 32 32 32 32 32 32 36 36 36 36 36 36 36 36 36 36\n",
            " 29 29 29 29 29 29 29 29 29 29 31 31 31 31 31 31 31 31 31 31 34 34 34 34\n",
            " 34 34 34 34 34 34 35 35 35 35 35 35 35 35 35 35 30 30 30 30 30 30 30 30\n",
            " 30 30 33 33 33 33 33 33 33 33 33 33 28 28 28 28 28 28 28 28 28 28  3  3\n",
            "  3  3  3  3  3  3  3  3  2  2  2  2  2  2  2  2  2  2 20 20 20 20 20 20\n",
            " 20 20 20 20 21 21 21 21 21 21 21 21 21 21 24 24 24 24 24 24 24 24 24 24\n",
            " 26 26 26 26 26 26 26 26 26 26 27 27 27 27 27 27 27 27 27 27 25 25 25 25\n",
            " 25 25 25 25 25 25 19 19 19 19 19 19 19 19 19 19 23 23 23 23 23 23 23 23\n",
            " 23 23 22 22 22 22 22 22 22 22 22 22 17 17 17 17 17 17 17 17 17 17 10 10\n",
            " 10 10 10 10 10 10 10 10 15 15 15 15 15 15 15 15 15 15 12 12 12 12 12 12\n",
            " 12 12 12 12 18 18 18 18 18 18 18 18 18 18 13 13 13 13 13 13 13 13 13 13\n",
            " 11 11 11 11 11 11 11 11 11 11  1  1  1  1  1  1  1  1  1  1 16 16 16 16\n",
            " 16 16 16 16 16 16 14 14 14 14 14 14 14 14 14 14  0  0  0  0  0  0  0  0\n",
            "  0  0]\n"
          ]
        }
      ]
    },
    {
      "cell_type": "code",
      "metadata": {
        "id": "HHNqb9vSck03"
      },
      "source": [
        "X_train, x_test, y_train, y_test = train_test_split(data, labels, test_size=0.2, random_state=42)"
      ],
      "execution_count": null,
      "outputs": []
    },
    {
      "cell_type": "code",
      "metadata": {
        "id": "Vr8APEAHkztS"
      },
      "source": [
        "for a in y_test:\n",
        "  print(np.argmax(a))\n",
        "# np.argmax(y_test)"
      ],
      "execution_count": null,
      "outputs": []
    },
    {
      "cell_type": "code",
      "metadata": {
        "id": "YEPixaS-dnZn"
      },
      "source": [
        "x_train, x_valid, y_train, y_valid= train_test_split(\n",
        "    X_train, y_train, test_size=.05, random_state=1234,)"
      ],
      "execution_count": null,
      "outputs": []
    },
    {
      "cell_type": "code",
      "metadata": {
        "id": "k-drBKYygPWk"
      },
      "source": [
        "#to_categorical Converts a class vector (integers) to binary class matrix.\n",
        "y_train = to_categorical(y_train,41)\n",
        "y_valid = to_categorical(y_valid,41)\n",
        "y_test = to_categorical(y_test,41)"
      ],
      "execution_count": null,
      "outputs": []
    },
    {
      "cell_type": "code",
      "metadata": {
        "colab": {
          "base_uri": "https://localhost:8080/"
        },
        "id": "Rl_r775_sJJ2",
        "outputId": "64872af1-6df8-4f0c-9688-cfcb11217725"
      },
      "source": [
        "x_valid.shape\n",
        "# print(x_train.shape,x_valid.shape)"
      ],
      "execution_count": null,
      "outputs": [
        {
          "output_type": "execute_result",
          "data": {
            "text/plain": [
              "(17, 70, 80)"
            ]
          },
          "metadata": {},
          "execution_count": 12
        }
      ]
    },
    {
      "cell_type": "code",
      "metadata": {
        "id": "z_j-pBBNeV-k"
      },
      "source": [
        "x_train.shape[1:]\n",
        "x_train = tf.expand_dims(x_train, axis =-1)\n",
        "x_valid = tf.expand_dims(x_valid, axis =-1)\n",
        "x_test = tf.expand_dims(x_test, axis =-1)"
      ],
      "execution_count": null,
      "outputs": []
    },
    {
      "cell_type": "code",
      "metadata": {
        "id": "jLI5uzrk5Cvq"
      },
      "source": [
        "cnn_model = Sequential()\n",
        "cnn_model.add(Conv2D(filters=32, kernel_size=(5,5), activation='relu', input_shape=x_train.shape[1:]))\n",
        "cnn_model.add(Conv2D(filters=32, kernel_size=(5,5), activation='relu'))\n",
        "cnn_model.add(MaxPooling2D(pool_size=(2, 2)))\n",
        "cnn_model.add(Dropout(rate=0.25))\n",
        "cnn_model.add(Conv2D(filters=64, kernel_size=(3, 3), activation='relu'))\n",
        "cnn_model.add(Conv2D(filters=64, kernel_size=(3, 3), activation='relu'))\n",
        "cnn_model.add(MaxPooling2D(pool_size=(2, 2)))\n",
        "cnn_model.add(Dropout(rate=0.25))\n",
        "cnn_model.add(Flatten())\n",
        "cnn_model.add(Dense(256, activation='relu'))\n",
        "cnn_model.add(Dropout(rate=0.5))\n",
        "cnn_model.add(Dense(41, activation='softmax'))\n",
        "\n",
        "#Compilation of the model\n",
        "cnn_model.compile(loss='categorical_crossentropy', optimizer='adam', metrics=['accuracy'])"
      ],
      "execution_count": null,
      "outputs": []
    },
    {
      "cell_type": "code",
      "metadata": {
        "colab": {
          "base_uri": "https://localhost:8080/"
        },
        "id": "1qjGG71SgGqm",
        "outputId": "6565ee01-82a0-4e22-968e-140ce2afc921"
      },
      "source": [
        "cnn_model.summary()"
      ],
      "execution_count": null,
      "outputs": [
        {
          "output_type": "stream",
          "name": "stdout",
          "text": [
            "Model: \"sequential\"\n",
            "_________________________________________________________________\n",
            "Layer (type)                 Output Shape              Param #   \n",
            "=================================================================\n",
            "conv2d (Conv2D)              (None, 66, 76, 32)        832       \n",
            "_________________________________________________________________\n",
            "conv2d_1 (Conv2D)            (None, 62, 72, 32)        25632     \n",
            "_________________________________________________________________\n",
            "max_pooling2d (MaxPooling2D) (None, 31, 36, 32)        0         \n",
            "_________________________________________________________________\n",
            "dropout (Dropout)            (None, 31, 36, 32)        0         \n",
            "_________________________________________________________________\n",
            "conv2d_2 (Conv2D)            (None, 29, 34, 64)        18496     \n",
            "_________________________________________________________________\n",
            "conv2d_3 (Conv2D)            (None, 27, 32, 64)        36928     \n",
            "_________________________________________________________________\n",
            "max_pooling2d_1 (MaxPooling2 (None, 13, 16, 64)        0         \n",
            "_________________________________________________________________\n",
            "dropout_1 (Dropout)          (None, 13, 16, 64)        0         \n",
            "_________________________________________________________________\n",
            "flatten (Flatten)            (None, 13312)             0         \n",
            "_________________________________________________________________\n",
            "dense (Dense)                (None, 256)               3408128   \n",
            "_________________________________________________________________\n",
            "dropout_2 (Dropout)          (None, 256)               0         \n",
            "_________________________________________________________________\n",
            "dense_1 (Dense)              (None, 41)                10537     \n",
            "=================================================================\n",
            "Total params: 3,500,553\n",
            "Trainable params: 3,500,553\n",
            "Non-trainable params: 0\n",
            "_________________________________________________________________\n"
          ]
        }
      ]
    },
    {
      "cell_type": "code",
      "metadata": {
        "colab": {
          "base_uri": "https://localhost:8080/"
        },
        "id": "sk0zEIt6gMgA",
        "outputId": "3e643087-f9f1-47c2-b03a-04c3c5a8a116"
      },
      "source": [
        "history=cnn_model.fit(\n",
        "    np.array(x_train), np.array(y_train), batch_size=512,\n",
        "    epochs=100, verbose=2,\n",
        "    validation_data=(np.array(x_valid),np.array(y_valid)),\n",
        ")"
      ],
      "execution_count": null,
      "outputs": [
        {
          "output_type": "stream",
          "name": "stdout",
          "text": [
            "Epoch 1/100\n",
            "1/1 - 12s - loss: 3.7190 - accuracy: 0.0193 - val_loss: 3.8029 - val_accuracy: 0.0588\n",
            "Epoch 2/100\n",
            "1/1 - 11s - loss: 3.7041 - accuracy: 0.0193 - val_loss: 3.7865 - val_accuracy: 0.0588\n",
            "Epoch 3/100\n",
            "1/1 - 11s - loss: 3.6861 - accuracy: 0.0418 - val_loss: 3.7623 - val_accuracy: 0.0000e+00\n",
            "Epoch 4/100\n",
            "1/1 - 11s - loss: 3.6714 - accuracy: 0.0579 - val_loss: 3.7708 - val_accuracy: 0.0000e+00\n",
            "Epoch 5/100\n",
            "1/1 - 11s - loss: 3.6443 - accuracy: 0.0643 - val_loss: 3.7935 - val_accuracy: 0.0000e+00\n",
            "Epoch 6/100\n",
            "1/1 - 11s - loss: 3.6413 - accuracy: 0.0450 - val_loss: 3.7403 - val_accuracy: 0.0588\n",
            "Epoch 7/100\n",
            "1/1 - 11s - loss: 3.5886 - accuracy: 0.0900 - val_loss: 3.7188 - val_accuracy: 0.1176\n",
            "Epoch 8/100\n",
            "1/1 - 11s - loss: 3.5551 - accuracy: 0.0965 - val_loss: 3.6922 - val_accuracy: 0.0588\n",
            "Epoch 9/100\n",
            "1/1 - 11s - loss: 3.4962 - accuracy: 0.0997 - val_loss: 3.6498 - val_accuracy: 0.1176\n",
            "Epoch 10/100\n",
            "1/1 - 11s - loss: 3.4428 - accuracy: 0.1190 - val_loss: 3.5597 - val_accuracy: 0.2353\n",
            "Epoch 11/100\n",
            "1/1 - 11s - loss: 3.3389 - accuracy: 0.1447 - val_loss: 3.4751 - val_accuracy: 0.1176\n",
            "Epoch 12/100\n",
            "1/1 - 11s - loss: 3.1152 - accuracy: 0.2026 - val_loss: 3.3467 - val_accuracy: 0.1765\n",
            "Epoch 13/100\n",
            "1/1 - 11s - loss: 2.9639 - accuracy: 0.2058 - val_loss: 3.0866 - val_accuracy: 0.2941\n",
            "Epoch 14/100\n",
            "1/1 - 11s - loss: 2.7754 - accuracy: 0.2733 - val_loss: 2.8467 - val_accuracy: 0.4118\n",
            "Epoch 15/100\n",
            "1/1 - 11s - loss: 2.5870 - accuracy: 0.2862 - val_loss: 2.5979 - val_accuracy: 0.5294\n",
            "Epoch 16/100\n",
            "1/1 - 11s - loss: 2.3281 - accuracy: 0.3505 - val_loss: 2.4804 - val_accuracy: 0.3529\n",
            "Epoch 17/100\n",
            "1/1 - 11s - loss: 2.1978 - accuracy: 0.4019 - val_loss: 2.3457 - val_accuracy: 0.4118\n",
            "Epoch 18/100\n",
            "1/1 - 11s - loss: 1.9998 - accuracy: 0.4695 - val_loss: 2.1537 - val_accuracy: 0.4706\n",
            "Epoch 19/100\n",
            "1/1 - 11s - loss: 1.8064 - accuracy: 0.4823 - val_loss: 1.8496 - val_accuracy: 0.5294\n",
            "Epoch 20/100\n",
            "1/1 - 11s - loss: 1.6520 - accuracy: 0.5241 - val_loss: 1.6161 - val_accuracy: 0.6471\n",
            "Epoch 21/100\n",
            "1/1 - 11s - loss: 1.3765 - accuracy: 0.6077 - val_loss: 1.4623 - val_accuracy: 0.6471\n",
            "Epoch 22/100\n",
            "1/1 - 11s - loss: 1.4039 - accuracy: 0.6077 - val_loss: 1.4507 - val_accuracy: 0.6471\n",
            "Epoch 23/100\n",
            "1/1 - 11s - loss: 1.2267 - accuracy: 0.6624 - val_loss: 1.1597 - val_accuracy: 0.8235\n",
            "Epoch 24/100\n",
            "1/1 - 11s - loss: 1.0559 - accuracy: 0.6817 - val_loss: 1.1928 - val_accuracy: 0.7059\n",
            "Epoch 25/100\n",
            "1/1 - 11s - loss: 0.8378 - accuracy: 0.7363 - val_loss: 1.0121 - val_accuracy: 0.7647\n",
            "Epoch 26/100\n",
            "1/1 - 11s - loss: 0.8300 - accuracy: 0.7653 - val_loss: 1.2806 - val_accuracy: 0.6471\n",
            "Epoch 27/100\n",
            "1/1 - 11s - loss: 0.7368 - accuracy: 0.7717 - val_loss: 1.1570 - val_accuracy: 0.6471\n",
            "Epoch 28/100\n",
            "1/1 - 11s - loss: 0.6862 - accuracy: 0.7846 - val_loss: 1.0672 - val_accuracy: 0.7059\n",
            "Epoch 29/100\n",
            "1/1 - 11s - loss: 0.5349 - accuracy: 0.8746 - val_loss: 0.8882 - val_accuracy: 0.7647\n",
            "Epoch 30/100\n",
            "1/1 - 11s - loss: 0.4569 - accuracy: 0.8682 - val_loss: 0.7124 - val_accuracy: 0.8235\n",
            "Epoch 31/100\n",
            "1/1 - 11s - loss: 0.4177 - accuracy: 0.8778 - val_loss: 0.7755 - val_accuracy: 0.7647\n",
            "Epoch 32/100\n",
            "1/1 - 11s - loss: 0.4287 - accuracy: 0.8617 - val_loss: 0.6366 - val_accuracy: 0.8235\n",
            "Epoch 33/100\n",
            "1/1 - 11s - loss: 0.2753 - accuracy: 0.9260 - val_loss: 0.6840 - val_accuracy: 0.8235\n",
            "Epoch 34/100\n",
            "1/1 - 11s - loss: 0.3344 - accuracy: 0.9132 - val_loss: 0.8540 - val_accuracy: 0.8235\n",
            "Epoch 35/100\n",
            "1/1 - 11s - loss: 0.3336 - accuracy: 0.8907 - val_loss: 0.7516 - val_accuracy: 0.8235\n",
            "Epoch 36/100\n",
            "1/1 - 11s - loss: 0.2634 - accuracy: 0.9196 - val_loss: 0.6832 - val_accuracy: 0.8824\n",
            "Epoch 37/100\n",
            "1/1 - 11s - loss: 0.2751 - accuracy: 0.9132 - val_loss: 0.7059 - val_accuracy: 0.8235\n",
            "Epoch 38/100\n",
            "1/1 - 11s - loss: 0.1853 - accuracy: 0.9293 - val_loss: 0.8237 - val_accuracy: 0.7647\n",
            "Epoch 39/100\n",
            "1/1 - 11s - loss: 0.2653 - accuracy: 0.9196 - val_loss: 0.6111 - val_accuracy: 0.8235\n",
            "Epoch 40/100\n",
            "1/1 - 11s - loss: 0.1782 - accuracy: 0.9421 - val_loss: 0.5664 - val_accuracy: 0.8824\n",
            "Epoch 41/100\n",
            "1/1 - 11s - loss: 0.1971 - accuracy: 0.9293 - val_loss: 0.5394 - val_accuracy: 0.8235\n",
            "Epoch 42/100\n",
            "1/1 - 11s - loss: 0.1285 - accuracy: 0.9614 - val_loss: 0.6318 - val_accuracy: 0.8235\n",
            "Epoch 43/100\n",
            "1/1 - 11s - loss: 0.1102 - accuracy: 0.9678 - val_loss: 0.7422 - val_accuracy: 0.8235\n",
            "Epoch 44/100\n",
            "1/1 - 11s - loss: 0.1280 - accuracy: 0.9582 - val_loss: 0.7752 - val_accuracy: 0.8235\n",
            "Epoch 45/100\n",
            "1/1 - 11s - loss: 0.1454 - accuracy: 0.9678 - val_loss: 0.6973 - val_accuracy: 0.8235\n",
            "Epoch 46/100\n",
            "1/1 - 11s - loss: 0.1163 - accuracy: 0.9614 - val_loss: 0.7543 - val_accuracy: 0.8235\n",
            "Epoch 47/100\n",
            "1/1 - 11s - loss: 0.1497 - accuracy: 0.9518 - val_loss: 0.8517 - val_accuracy: 0.8235\n",
            "Epoch 48/100\n",
            "1/1 - 11s - loss: 0.0757 - accuracy: 0.9807 - val_loss: 0.9381 - val_accuracy: 0.8235\n",
            "Epoch 49/100\n",
            "1/1 - 11s - loss: 0.0667 - accuracy: 0.9743 - val_loss: 0.7619 - val_accuracy: 0.8235\n",
            "Epoch 50/100\n",
            "1/1 - 11s - loss: 0.0864 - accuracy: 0.9839 - val_loss: 0.6599 - val_accuracy: 0.8235\n",
            "Epoch 51/100\n",
            "1/1 - 11s - loss: 0.0604 - accuracy: 0.9807 - val_loss: 0.6434 - val_accuracy: 0.8235\n",
            "Epoch 52/100\n",
            "1/1 - 11s - loss: 0.0736 - accuracy: 0.9807 - val_loss: 0.6745 - val_accuracy: 0.8235\n",
            "Epoch 53/100\n",
            "1/1 - 11s - loss: 0.0391 - accuracy: 0.9936 - val_loss: 0.7019 - val_accuracy: 0.8235\n",
            "Epoch 54/100\n",
            "1/1 - 11s - loss: 0.0390 - accuracy: 0.9839 - val_loss: 0.6735 - val_accuracy: 0.8235\n",
            "Epoch 55/100\n",
            "1/1 - 11s - loss: 0.0872 - accuracy: 0.9678 - val_loss: 0.7049 - val_accuracy: 0.8824\n",
            "Epoch 56/100\n",
            "1/1 - 11s - loss: 0.0594 - accuracy: 0.9807 - val_loss: 0.8339 - val_accuracy: 0.8824\n",
            "Epoch 57/100\n",
            "1/1 - 11s - loss: 0.0459 - accuracy: 0.9871 - val_loss: 0.9753 - val_accuracy: 0.8235\n",
            "Epoch 58/100\n",
            "1/1 - 11s - loss: 0.0513 - accuracy: 0.9839 - val_loss: 1.2398 - val_accuracy: 0.7059\n",
            "Epoch 59/100\n",
            "1/1 - 11s - loss: 0.0510 - accuracy: 0.9871 - val_loss: 1.4112 - val_accuracy: 0.7059\n",
            "Epoch 60/100\n",
            "1/1 - 11s - loss: 0.0528 - accuracy: 0.9807 - val_loss: 1.4298 - val_accuracy: 0.7059\n",
            "Epoch 61/100\n",
            "1/1 - 11s - loss: 0.0480 - accuracy: 0.9807 - val_loss: 1.1790 - val_accuracy: 0.7647\n",
            "Epoch 62/100\n",
            "1/1 - 11s - loss: 0.0470 - accuracy: 0.9904 - val_loss: 0.9182 - val_accuracy: 0.8235\n",
            "Epoch 63/100\n",
            "1/1 - 11s - loss: 0.0648 - accuracy: 0.9711 - val_loss: 0.7832 - val_accuracy: 0.8824\n",
            "Epoch 64/100\n",
            "1/1 - 11s - loss: 0.0826 - accuracy: 0.9807 - val_loss: 0.8800 - val_accuracy: 0.8824\n",
            "Epoch 65/100\n",
            "1/1 - 11s - loss: 0.0419 - accuracy: 0.9871 - val_loss: 1.0643 - val_accuracy: 0.8824\n",
            "Epoch 66/100\n",
            "1/1 - 11s - loss: 0.0643 - accuracy: 0.9775 - val_loss: 1.2066 - val_accuracy: 0.8235\n",
            "Epoch 67/100\n",
            "1/1 - 11s - loss: 0.0480 - accuracy: 0.9871 - val_loss: 1.1059 - val_accuracy: 0.8235\n",
            "Epoch 68/100\n",
            "1/1 - 11s - loss: 0.0490 - accuracy: 0.9904 - val_loss: 0.9717 - val_accuracy: 0.8824\n",
            "Epoch 69/100\n",
            "1/1 - 11s - loss: 0.0744 - accuracy: 0.9711 - val_loss: 0.8102 - val_accuracy: 0.8235\n",
            "Epoch 70/100\n",
            "1/1 - 11s - loss: 0.0376 - accuracy: 0.9936 - val_loss: 0.7901 - val_accuracy: 0.8235\n",
            "Epoch 71/100\n",
            "1/1 - 11s - loss: 0.0457 - accuracy: 0.9839 - val_loss: 0.9166 - val_accuracy: 0.8235\n",
            "Epoch 72/100\n",
            "1/1 - 11s - loss: 0.0439 - accuracy: 0.9904 - val_loss: 0.9724 - val_accuracy: 0.8235\n",
            "Epoch 73/100\n",
            "1/1 - 11s - loss: 0.0618 - accuracy: 0.9775 - val_loss: 0.9846 - val_accuracy: 0.8235\n",
            "Epoch 74/100\n",
            "1/1 - 11s - loss: 0.0779 - accuracy: 0.9711 - val_loss: 0.6879 - val_accuracy: 0.8235\n",
            "Epoch 75/100\n",
            "1/1 - 11s - loss: 0.0491 - accuracy: 0.9807 - val_loss: 0.5980 - val_accuracy: 0.8235\n",
            "Epoch 76/100\n",
            "1/1 - 11s - loss: 0.0652 - accuracy: 0.9743 - val_loss: 0.6280 - val_accuracy: 0.8235\n",
            "Epoch 77/100\n",
            "1/1 - 11s - loss: 0.0357 - accuracy: 0.9839 - val_loss: 0.7546 - val_accuracy: 0.8824\n",
            "Epoch 78/100\n",
            "1/1 - 11s - loss: 0.0393 - accuracy: 0.9904 - val_loss: 0.9025 - val_accuracy: 0.8235\n",
            "Epoch 79/100\n",
            "1/1 - 11s - loss: 0.0218 - accuracy: 0.9968 - val_loss: 0.9801 - val_accuracy: 0.8235\n",
            "Epoch 80/100\n",
            "1/1 - 11s - loss: 0.0353 - accuracy: 0.9904 - val_loss: 1.0208 - val_accuracy: 0.8824\n",
            "Epoch 81/100\n",
            "1/1 - 11s - loss: 0.0419 - accuracy: 0.9839 - val_loss: 1.0393 - val_accuracy: 0.8235\n",
            "Epoch 82/100\n",
            "1/1 - 11s - loss: 0.0452 - accuracy: 0.9839 - val_loss: 1.0490 - val_accuracy: 0.8235\n",
            "Epoch 83/100\n",
            "1/1 - 11s - loss: 0.0372 - accuracy: 0.9839 - val_loss: 1.0757 - val_accuracy: 0.8235\n",
            "Epoch 84/100\n",
            "1/1 - 11s - loss: 0.0265 - accuracy: 0.9936 - val_loss: 1.1291 - val_accuracy: 0.8235\n",
            "Epoch 85/100\n",
            "1/1 - 11s - loss: 0.0158 - accuracy: 0.9968 - val_loss: 1.1410 - val_accuracy: 0.8235\n",
            "Epoch 86/100\n",
            "1/1 - 11s - loss: 0.0153 - accuracy: 0.9968 - val_loss: 1.1557 - val_accuracy: 0.8824\n",
            "Epoch 87/100\n",
            "1/1 - 11s - loss: 0.0209 - accuracy: 0.9936 - val_loss: 1.1406 - val_accuracy: 0.8824\n",
            "Epoch 88/100\n",
            "1/1 - 11s - loss: 0.0237 - accuracy: 0.9904 - val_loss: 1.1785 - val_accuracy: 0.8824\n",
            "Epoch 89/100\n",
            "1/1 - 11s - loss: 0.0318 - accuracy: 0.9968 - val_loss: 1.1434 - val_accuracy: 0.8824\n",
            "Epoch 90/100\n",
            "1/1 - 11s - loss: 0.0312 - accuracy: 0.9904 - val_loss: 1.0710 - val_accuracy: 0.8824\n",
            "Epoch 91/100\n",
            "1/1 - 11s - loss: 0.0531 - accuracy: 0.9839 - val_loss: 0.9807 - val_accuracy: 0.8824\n",
            "Epoch 92/100\n",
            "1/1 - 11s - loss: 0.0193 - accuracy: 0.9968 - val_loss: 0.9130 - val_accuracy: 0.8824\n",
            "Epoch 93/100\n",
            "1/1 - 11s - loss: 0.0204 - accuracy: 0.9936 - val_loss: 0.8610 - val_accuracy: 0.8824\n",
            "Epoch 94/100\n",
            "1/1 - 11s - loss: 0.0572 - accuracy: 0.9775 - val_loss: 0.8054 - val_accuracy: 0.8824\n",
            "Epoch 95/100\n",
            "1/1 - 11s - loss: 0.0323 - accuracy: 0.9871 - val_loss: 0.7840 - val_accuracy: 0.8824\n",
            "Epoch 96/100\n",
            "1/1 - 11s - loss: 0.0138 - accuracy: 0.9968 - val_loss: 0.7941 - val_accuracy: 0.8824\n",
            "Epoch 97/100\n",
            "1/1 - 11s - loss: 0.0330 - accuracy: 0.9904 - val_loss: 0.7744 - val_accuracy: 0.8824\n",
            "Epoch 98/100\n",
            "1/1 - 11s - loss: 0.0279 - accuracy: 0.9936 - val_loss: 0.7662 - val_accuracy: 0.8824\n",
            "Epoch 99/100\n",
            "1/1 - 11s - loss: 0.0275 - accuracy: 0.9871 - val_loss: 0.7930 - val_accuracy: 0.8824\n",
            "Epoch 100/100\n",
            "1/1 - 11s - loss: 0.0211 - accuracy: 0.9968 - val_loss: 0.8080 - val_accuracy: 0.8824\n"
          ]
        }
      ]
    },
    {
      "cell_type": "code",
      "metadata": {
        "colab": {
          "base_uri": "https://localhost:8080/"
        },
        "id": "0oL2odUY-H-0",
        "outputId": "9e6e437d-0512-41f5-c25d-0cb05422d127"
      },
      "source": [
        "scor = cnn_model.evaluate( np.array(x_test),  np.array(y_test), verbose=0)\n",
        "\n",
        "print('test los {:.4f}'.format(scor[0]))\n",
        "print('test acc {:.4f}'.format(scor[1]))"
      ],
      "execution_count": null,
      "outputs": [
        {
          "output_type": "stream",
          "name": "stdout",
          "text": [
            "test los 0.2538\n",
            "test acc 0.9268\n"
          ]
        }
      ]
    },
    {
      "cell_type": "code",
      "metadata": {
        "colab": {
          "base_uri": "https://localhost:8080/",
          "height": 590
        },
        "id": "FxO3Ykd5-N_k",
        "outputId": "9d377c65-b951-4b67-e760-d3c80638cbd7"
      },
      "source": [
        "# list all data in history\n",
        "print(history.history.keys())\n",
        "# summarize history for accuracy\n",
        "plt.plot(history.history['accuracy'])\n",
        "plt.plot(history.history['val_accuracy'])\n",
        "plt.title('model accuracy')\n",
        "plt.ylabel('accuracy')\n",
        "plt.xlabel('epoch')\n",
        "plt.legend(['train', 'test'], loc='upper left')\n",
        "plt.show()\n",
        "# summarize history for loss\n",
        "plt.plot(history.history['loss'])\n",
        "plt.plot(history.history['val_loss'])\n",
        "plt.title('model loss')\n",
        "plt.ylabel('loss')\n",
        "plt.xlabel('epoch')\n",
        "plt.legend(['train', 'test'], loc='upper left')\n",
        "plt.show()"
      ],
      "execution_count": null,
      "outputs": [
        {
          "output_type": "stream",
          "name": "stdout",
          "text": [
            "dict_keys(['loss', 'accuracy', 'val_loss', 'val_accuracy'])\n"
          ]
        },
        {
          "output_type": "display_data",
          "data": {
            "image/png": "[encoded data removed]",
            "text/plain": [
              "<Figure size 432x288 with 1 Axes>"
            ]
          },
          "metadata": {
            "needs_background": "light"
          }
        },
        {
          "output_type": "display_data",
          "data": {
            "image/png": "[encoded data removed]",
            "text/plain": [
              "<Figure size 432x288 with 1 Axes>"
            ]
          },
          "metadata": {
            "needs_background": "light"
          }
        }
      ]
    },
    {
      "cell_type": "code",
      "metadata": {
        "id": "e8yELbevPsoK"
      },
      "source": [
        "predicted =np.array( cnn_model.predict(x_test))\n",
        "\n",
        "a=[]\n",
        "b=[]\n",
        "for i in predicted:\n",
        "  a.append(np.argmax(i))\n",
        "for j in y_test:\n",
        "  b.append(np.argmax(j))\n",
        "a=np.array(a)\n",
        "b=np.array(b)"
      ],
      "execution_count": null,
      "outputs": []
    },
    {
      "cell_type": "code",
      "metadata": {
        "colab": {
          "base_uri": "https://localhost:8080/"
        },
        "id": "mg3NXcd8DY59",
        "outputId": "d3c78534-927f-4916-853d-f292a732121e"
      },
      "source": [
        "Acc=accuracy_score(b, a)\n",
        "print(\"accuracy : \")\n",
        "print(Acc)"
      ],
      "execution_count": null,
      "outputs": [
        {
          "output_type": "stream",
          "name": "stdout",
          "text": [
            "accuracy : \n",
            "0.926829268292683\n"
          ]
        }
      ]
    }
  ]
}